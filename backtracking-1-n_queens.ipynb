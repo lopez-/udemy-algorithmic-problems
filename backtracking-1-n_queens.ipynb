{
 "cells": [
  {
   "cell_type": "code",
   "execution_count": null,
   "metadata": {},
   "outputs": [],
   "source": []
  },
  {
   "cell_type": "code",
   "execution_count": 41,
   "metadata": {},
   "outputs": [],
   "source": [
    "class QueensProblem:\n",
    "    def __init__(self, numOfQueens):\n",
    "        self.numOfQueens = numOfQueens\n",
    "        self.chessTable = [[None for i in range(numOfQueens)] for j in range(numOfQueens)]\n",
    "        \n",
    "    def solveQueensProblem(self):\n",
    "        \n",
    "        if self.solve(0):\n",
    "            self.printQueens()\n",
    "        else:\n",
    "            print('There is no solution')\n",
    "            \n",
    "    def solve(self, colIndex):\n",
    "        \n",
    "        if colIndex == self.numOfQueens:\n",
    "            return True\n",
    "        \n",
    "        for rowIndex in range(self.numOfQueens):\n",
    "            \n",
    "            if self.isPlaceValid(rowIndex, colIndex):\n",
    "                \n",
    "                self.chessTable[rowIndex][colIndex] = 1\n",
    "                \n",
    "                if self.solve(colIndex+1):\n",
    "                    return True\n",
    "                \n",
    "                self.chessTable[rowIndex][colIndex] = 0\n",
    "                \n",
    "    def isPlaceValid(self, rowIndex, colIndex):\n",
    "        pass"
   ]
  },
  {
   "cell_type": "code",
   "execution_count": 42,
   "metadata": {},
   "outputs": [],
   "source": [
    "qn = QueensProblem(4)"
   ]
  },
  {
   "cell_type": "code",
   "execution_count": 43,
   "metadata": {},
   "outputs": [
    {
     "data": {
      "text/plain": [
       "4"
      ]
     },
     "execution_count": 43,
     "metadata": {},
     "output_type": "execute_result"
    }
   ],
   "source": [
    "qn.numOfQueens"
   ]
  },
  {
   "cell_type": "code",
   "execution_count": 44,
   "metadata": {},
   "outputs": [
    {
     "data": {
      "text/plain": [
       "[[None, None, None, None],\n",
       " [None, None, None, None],\n",
       " [None, None, None, None],\n",
       " [None, None, None, None]]"
      ]
     },
     "execution_count": 44,
     "metadata": {},
     "output_type": "execute_result"
    }
   ],
   "source": [
    "qn.chessTable"
   ]
  },
  {
   "cell_type": "code",
   "execution_count": 45,
   "metadata": {},
   "outputs": [
    {
     "name": "stdout",
     "output_type": "stream",
     "text": [
      "There is no solution\n"
     ]
    }
   ],
   "source": [
    "qn.solveQueensProblem()"
   ]
  },
  {
   "cell_type": "code",
   "execution_count": null,
   "metadata": {},
   "outputs": [],
   "source": []
  },
  {
   "cell_type": "code",
   "execution_count": null,
   "metadata": {},
   "outputs": [],
   "source": []
  }
 ],
 "metadata": {
  "kernelspec": {
   "display_name": "Python [conda env:anaconda3]",
   "language": "python",
   "name": "conda-env-anaconda3-py"
  },
  "language_info": {
   "codemirror_mode": {
    "name": "ipython",
    "version": 3
   },
   "file_extension": ".py",
   "mimetype": "text/x-python",
   "name": "python",
   "nbconvert_exporter": "python",
   "pygments_lexer": "ipython3",
   "version": "3.6.5"
  }
 },
 "nbformat": 4,
 "nbformat_minor": 2
}
